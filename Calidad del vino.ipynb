{
 "cells": [
  {
   "cell_type": "markdown",
   "id": "0ae157ec",
   "metadata": {},
   "source": [
    "# Proyecto 1. Predecir la calidad del vino"
   ]
  },
  {
   "cell_type": "markdown",
   "id": "ede9aafb",
   "metadata": {},
   "source": [
    "## Integrantes:\n",
    "Daniel Enrique Granados Iglesias"
   ]
  },
  {
   "cell_type": "markdown",
   "id": "32d230d2",
   "metadata": {},
   "source": [
    "# 1. Importación de paquetes"
   ]
  },
  {
   "cell_type": "code",
   "execution_count": 2,
   "id": "d9375ef1",
   "metadata": {},
   "outputs": [
    {
     "name": "stdout",
     "output_type": "stream",
     "text": [
      "Name: openpyxl\n",
      "Version: 3.1.2\n",
      "Summary: A Python library to read/write Excel 2010 xlsx/xlsm files\n",
      "Home-page: https://openpyxl.readthedocs.io\n",
      "Author: See AUTHORS\n",
      "Author-email: charlie.clark@clark-consulting.eu\n",
      "License: MIT\n",
      "Location: C:\\Users\\Admin\\AppData\\Roaming\\Python\\Python311\\site-packages\n",
      "Requires: et-xmlfile\n",
      "Required-by: \n"
     ]
    }
   ],
   "source": [
    "# Importar Matplotlib y Seaborn\n",
    "import matplotlib.pyplot as plt\n",
    "import matplotlib as mpl\n",
    "import seaborn as sns\n",
    "%matplotlib inline\n",
    "\n",
    "# Importar Pandas y NumPy.\n",
    "import pandas as pd\n",
    "import numpy as np\n",
    "!pip show openpyxl\n",
    "\n",
    "# Importar Warnings\n",
    "import warnings\n",
    "warnings.filterwarnings('ignore')"
   ]
  },
  {
   "cell_type": "code",
   "execution_count": 13,
   "id": "13df8941",
   "metadata": {},
   "outputs": [],
   "source": [
    "from scipy import stats\n",
    "import scipy\n",
    "import statsmodels.api as sm\n",
    "import statsmodels.formula.api as smf\n",
    "from sklearn.model_selection import train_test_split"
   ]
  },
  {
   "cell_type": "markdown",
   "id": "0d94579d",
   "metadata": {},
   "source": [
    "# 2. Lectura de los datos"
   ]
  },
  {
   "cell_type": "code",
   "execution_count": 5,
   "id": "fdf2f71d",
   "metadata": {},
   "outputs": [],
   "source": [
    "datos = pd.read_excel('winequality-red.xlsx')"
   ]
  },
  {
   "cell_type": "markdown",
   "id": "42eabba6",
   "metadata": {},
   "source": [
    "# 3. Análisis preliminar de los datos"
   ]
  },
  {
   "cell_type": "markdown",
   "id": "82f1be94",
   "metadata": {},
   "source": [
    "El conjunto de datos a analizar corresponde a una muestra de vino tinto del norte de Portugal. El objetivo es modelar la calidad del vino a partir de pruebas fisicoquímicas, y las variables que se utilizan para esto son:\n",
    "   \n",
    "* fixed acidity\n",
    "* volatile acidity\n",
    "* citric acid\n",
    "* residual sugar\n",
    "* chlorides\n",
    "* free sulfur dioxide\n",
    "* total sulfur dioxide\n",
    "* density\n",
    "* pH\n",
    "* sulphates\n",
    "* alcohol\n",
    "\n",
    "A continuación, un análisis preliminar de los datos:"
   ]
  },
  {
   "cell_type": "code",
   "execution_count": 8,
   "id": "8fc0cf04",
   "metadata": {},
   "outputs": [
    {
     "data": {
      "text/html": [
       "<div>\n",
       "<style scoped>\n",
       "    .dataframe tbody tr th:only-of-type {\n",
       "        vertical-align: middle;\n",
       "    }\n",
       "\n",
       "    .dataframe tbody tr th {\n",
       "        vertical-align: top;\n",
       "    }\n",
       "\n",
       "    .dataframe thead th {\n",
       "        text-align: right;\n",
       "    }\n",
       "</style>\n",
       "<table border=\"1\" class=\"dataframe\">\n",
       "  <thead>\n",
       "    <tr style=\"text-align: right;\">\n",
       "      <th></th>\n",
       "      <th>fixed acidity</th>\n",
       "      <th>volatile acidity</th>\n",
       "      <th>citric acid</th>\n",
       "      <th>residual sugar</th>\n",
       "      <th>chlorides</th>\n",
       "      <th>free sulfur dioxide</th>\n",
       "      <th>total sulfur dioxide</th>\n",
       "      <th>density</th>\n",
       "      <th>pH</th>\n",
       "      <th>sulphates</th>\n",
       "      <th>alcohol</th>\n",
       "      <th>quality</th>\n",
       "    </tr>\n",
       "  </thead>\n",
       "  <tbody>\n",
       "    <tr>\n",
       "      <th>0</th>\n",
       "      <td>7.4</td>\n",
       "      <td>0.70</td>\n",
       "      <td>0.00</td>\n",
       "      <td>1.9</td>\n",
       "      <td>0.076</td>\n",
       "      <td>11.0</td>\n",
       "      <td>34.0</td>\n",
       "      <td>0.9978</td>\n",
       "      <td>3.51</td>\n",
       "      <td>0.56</td>\n",
       "      <td>9.4</td>\n",
       "      <td>5</td>\n",
       "    </tr>\n",
       "    <tr>\n",
       "      <th>1</th>\n",
       "      <td>7.8</td>\n",
       "      <td>0.88</td>\n",
       "      <td>0.00</td>\n",
       "      <td>2.6</td>\n",
       "      <td>0.098</td>\n",
       "      <td>25.0</td>\n",
       "      <td>67.0</td>\n",
       "      <td>0.9968</td>\n",
       "      <td>3.20</td>\n",
       "      <td>0.68</td>\n",
       "      <td>9.8</td>\n",
       "      <td>5</td>\n",
       "    </tr>\n",
       "    <tr>\n",
       "      <th>2</th>\n",
       "      <td>7.8</td>\n",
       "      <td>0.76</td>\n",
       "      <td>0.04</td>\n",
       "      <td>2.3</td>\n",
       "      <td>0.092</td>\n",
       "      <td>15.0</td>\n",
       "      <td>54.0</td>\n",
       "      <td>0.9970</td>\n",
       "      <td>3.26</td>\n",
       "      <td>0.65</td>\n",
       "      <td>9.8</td>\n",
       "      <td>5</td>\n",
       "    </tr>\n",
       "    <tr>\n",
       "      <th>3</th>\n",
       "      <td>11.2</td>\n",
       "      <td>0.28</td>\n",
       "      <td>0.56</td>\n",
       "      <td>1.9</td>\n",
       "      <td>0.075</td>\n",
       "      <td>17.0</td>\n",
       "      <td>60.0</td>\n",
       "      <td>0.9980</td>\n",
       "      <td>3.16</td>\n",
       "      <td>0.58</td>\n",
       "      <td>9.8</td>\n",
       "      <td>6</td>\n",
       "    </tr>\n",
       "    <tr>\n",
       "      <th>4</th>\n",
       "      <td>7.4</td>\n",
       "      <td>0.70</td>\n",
       "      <td>0.00</td>\n",
       "      <td>1.9</td>\n",
       "      <td>0.076</td>\n",
       "      <td>11.0</td>\n",
       "      <td>34.0</td>\n",
       "      <td>0.9978</td>\n",
       "      <td>3.51</td>\n",
       "      <td>0.56</td>\n",
       "      <td>9.4</td>\n",
       "      <td>5</td>\n",
       "    </tr>\n",
       "  </tbody>\n",
       "</table>\n",
       "</div>"
      ],
      "text/plain": [
       "   fixed acidity  volatile acidity  citric acid  residual sugar  chlorides  \\\n",
       "0            7.4              0.70         0.00             1.9      0.076   \n",
       "1            7.8              0.88         0.00             2.6      0.098   \n",
       "2            7.8              0.76         0.04             2.3      0.092   \n",
       "3           11.2              0.28         0.56             1.9      0.075   \n",
       "4            7.4              0.70         0.00             1.9      0.076   \n",
       "\n",
       "   free sulfur dioxide  total sulfur dioxide  density    pH  sulphates  \\\n",
       "0                 11.0                  34.0   0.9978  3.51       0.56   \n",
       "1                 25.0                  67.0   0.9968  3.20       0.68   \n",
       "2                 15.0                  54.0   0.9970  3.26       0.65   \n",
       "3                 17.0                  60.0   0.9980  3.16       0.58   \n",
       "4                 11.0                  34.0   0.9978  3.51       0.56   \n",
       "\n",
       "   alcohol  quality  \n",
       "0      9.4        5  \n",
       "1      9.8        5  \n",
       "2      9.8        5  \n",
       "3      9.8        6  \n",
       "4      9.4        5  "
      ]
     },
     "execution_count": 8,
     "metadata": {},
     "output_type": "execute_result"
    }
   ],
   "source": [
    "datos.head()"
   ]
  },
  {
   "cell_type": "code",
   "execution_count": 9,
   "id": "f2590eb9",
   "metadata": {},
   "outputs": [
    {
     "name": "stdout",
     "output_type": "stream",
     "text": [
      "El número de filas del set de datos es:  1599\n",
      "Se tiene un total de  12  variables\n"
     ]
    }
   ],
   "source": [
    "print('El número de filas del set de datos es: ', datos.shape[0])\n",
    "print('Se tiene un total de ', datos.shape[1], ' variables')"
   ]
  },
  {
   "cell_type": "code",
   "execution_count": 10,
   "id": "0602a6d3",
   "metadata": {},
   "outputs": [
    {
     "name": "stdout",
     "output_type": "stream",
     "text": [
      "<class 'pandas.core.frame.DataFrame'>\n",
      "RangeIndex: 1599 entries, 0 to 1598\n",
      "Data columns (total 12 columns):\n",
      " #   Column                Non-Null Count  Dtype  \n",
      "---  ------                --------------  -----  \n",
      " 0   fixed acidity         1599 non-null   float64\n",
      " 1   volatile acidity      1599 non-null   float64\n",
      " 2   citric acid           1599 non-null   float64\n",
      " 3   residual sugar        1599 non-null   float64\n",
      " 4   chlorides             1599 non-null   float64\n",
      " 5   free sulfur dioxide   1599 non-null   float64\n",
      " 6   total sulfur dioxide  1599 non-null   float64\n",
      " 7   density               1599 non-null   float64\n",
      " 8   pH                    1599 non-null   float64\n",
      " 9   sulphates             1599 non-null   float64\n",
      " 10  alcohol               1599 non-null   float64\n",
      " 11  quality               1599 non-null   int64  \n",
      "dtypes: float64(11), int64(1)\n",
      "memory usage: 150.0 KB\n"
     ]
    }
   ],
   "source": [
    "datos.info()"
   ]
  },
  {
   "cell_type": "markdown",
   "id": "c611b296",
   "metadata": {},
   "source": [
    "Como observamos, todas las variables son de tipo float o decimal, mientras que la variable 'quality' es de tipo int o entero. No se observan valores nulos en el set."
   ]
  },
  {
   "cell_type": "markdown",
   "id": "65713542",
   "metadata": {},
   "source": [
    "De igual forma, vale la pena visualizar un resumen estadístico descriptivo de las variables de análisis, como sigue:"
   ]
  },
  {
   "cell_type": "code",
   "execution_count": 12,
   "id": "f9ab3c13",
   "metadata": {},
   "outputs": [
    {
     "data": {
      "text/html": [
       "<div>\n",
       "<style scoped>\n",
       "    .dataframe tbody tr th:only-of-type {\n",
       "        vertical-align: middle;\n",
       "    }\n",
       "\n",
       "    .dataframe tbody tr th {\n",
       "        vertical-align: top;\n",
       "    }\n",
       "\n",
       "    .dataframe thead th {\n",
       "        text-align: right;\n",
       "    }\n",
       "</style>\n",
       "<table border=\"1\" class=\"dataframe\">\n",
       "  <thead>\n",
       "    <tr style=\"text-align: right;\">\n",
       "      <th></th>\n",
       "      <th>fixed acidity</th>\n",
       "      <th>volatile acidity</th>\n",
       "      <th>citric acid</th>\n",
       "      <th>residual sugar</th>\n",
       "      <th>chlorides</th>\n",
       "      <th>free sulfur dioxide</th>\n",
       "      <th>total sulfur dioxide</th>\n",
       "      <th>density</th>\n",
       "      <th>pH</th>\n",
       "      <th>sulphates</th>\n",
       "      <th>alcohol</th>\n",
       "      <th>quality</th>\n",
       "    </tr>\n",
       "  </thead>\n",
       "  <tbody>\n",
       "    <tr>\n",
       "      <th>count</th>\n",
       "      <td>1599.000000</td>\n",
       "      <td>1599.000000</td>\n",
       "      <td>1599.000000</td>\n",
       "      <td>1599.000000</td>\n",
       "      <td>1599.000000</td>\n",
       "      <td>1599.000000</td>\n",
       "      <td>1599.000000</td>\n",
       "      <td>1599.000000</td>\n",
       "      <td>1599.000000</td>\n",
       "      <td>1599.000000</td>\n",
       "      <td>1.599000e+03</td>\n",
       "      <td>1599.000000</td>\n",
       "    </tr>\n",
       "    <tr>\n",
       "      <th>mean</th>\n",
       "      <td>8.319637</td>\n",
       "      <td>3.879687</td>\n",
       "      <td>0.270976</td>\n",
       "      <td>2.538806</td>\n",
       "      <td>0.087467</td>\n",
       "      <td>15.874922</td>\n",
       "      <td>46.467792</td>\n",
       "      <td>1257.356925</td>\n",
       "      <td>3.311113</td>\n",
       "      <td>0.658149</td>\n",
       "      <td>1.455285e+12</td>\n",
       "      <td>5.636023</td>\n",
       "    </tr>\n",
       "    <tr>\n",
       "      <th>std</th>\n",
       "      <td>1.741096</td>\n",
       "      <td>60.015370</td>\n",
       "      <td>0.194801</td>\n",
       "      <td>1.409928</td>\n",
       "      <td>0.047065</td>\n",
       "      <td>10.460157</td>\n",
       "      <td>32.895324</td>\n",
       "      <td>9784.883345</td>\n",
       "      <td>0.154386</td>\n",
       "      <td>0.169507</td>\n",
       "      <td>3.370300e+13</td>\n",
       "      <td>0.807569</td>\n",
       "    </tr>\n",
       "    <tr>\n",
       "      <th>min</th>\n",
       "      <td>4.600000</td>\n",
       "      <td>0.120000</td>\n",
       "      <td>0.000000</td>\n",
       "      <td>0.900000</td>\n",
       "      <td>0.012000</td>\n",
       "      <td>1.000000</td>\n",
       "      <td>6.000000</td>\n",
       "      <td>0.990070</td>\n",
       "      <td>2.740000</td>\n",
       "      <td>0.330000</td>\n",
       "      <td>8.400000e+00</td>\n",
       "      <td>3.000000</td>\n",
       "    </tr>\n",
       "    <tr>\n",
       "      <th>25%</th>\n",
       "      <td>7.100000</td>\n",
       "      <td>0.390000</td>\n",
       "      <td>0.090000</td>\n",
       "      <td>1.900000</td>\n",
       "      <td>0.070000</td>\n",
       "      <td>7.000000</td>\n",
       "      <td>22.000000</td>\n",
       "      <td>0.995600</td>\n",
       "      <td>3.210000</td>\n",
       "      <td>0.550000</td>\n",
       "      <td>9.500000e+00</td>\n",
       "      <td>5.000000</td>\n",
       "    </tr>\n",
       "    <tr>\n",
       "      <th>50%</th>\n",
       "      <td>7.900000</td>\n",
       "      <td>0.520000</td>\n",
       "      <td>0.260000</td>\n",
       "      <td>2.200000</td>\n",
       "      <td>0.079000</td>\n",
       "      <td>14.000000</td>\n",
       "      <td>38.000000</td>\n",
       "      <td>0.996750</td>\n",
       "      <td>3.310000</td>\n",
       "      <td>0.620000</td>\n",
       "      <td>1.020000e+01</td>\n",
       "      <td>6.000000</td>\n",
       "    </tr>\n",
       "    <tr>\n",
       "      <th>75%</th>\n",
       "      <td>9.200000</td>\n",
       "      <td>0.640000</td>\n",
       "      <td>0.420000</td>\n",
       "      <td>2.600000</td>\n",
       "      <td>0.090000</td>\n",
       "      <td>21.000000</td>\n",
       "      <td>62.000000</td>\n",
       "      <td>0.997835</td>\n",
       "      <td>3.400000</td>\n",
       "      <td>0.730000</td>\n",
       "      <td>1.110000e+01</td>\n",
       "      <td>6.000000</td>\n",
       "    </tr>\n",
       "    <tr>\n",
       "      <th>max</th>\n",
       "      <td>15.900000</td>\n",
       "      <td>1185.000000</td>\n",
       "      <td>1.000000</td>\n",
       "      <td>15.500000</td>\n",
       "      <td>0.611000</td>\n",
       "      <td>72.000000</td>\n",
       "      <td>289.000000</td>\n",
       "      <td>100369.000000</td>\n",
       "      <td>4.010000</td>\n",
       "      <td>2.000000</td>\n",
       "      <td>9.566667e+14</td>\n",
       "      <td>8.000000</td>\n",
       "    </tr>\n",
       "  </tbody>\n",
       "</table>\n",
       "</div>"
      ],
      "text/plain": [
       "       fixed acidity  volatile acidity  citric acid  residual sugar  \\\n",
       "count    1599.000000       1599.000000  1599.000000     1599.000000   \n",
       "mean        8.319637          3.879687     0.270976        2.538806   \n",
       "std         1.741096         60.015370     0.194801        1.409928   \n",
       "min         4.600000          0.120000     0.000000        0.900000   \n",
       "25%         7.100000          0.390000     0.090000        1.900000   \n",
       "50%         7.900000          0.520000     0.260000        2.200000   \n",
       "75%         9.200000          0.640000     0.420000        2.600000   \n",
       "max        15.900000       1185.000000     1.000000       15.500000   \n",
       "\n",
       "         chlorides  free sulfur dioxide  total sulfur dioxide        density  \\\n",
       "count  1599.000000          1599.000000           1599.000000    1599.000000   \n",
       "mean      0.087467            15.874922             46.467792    1257.356925   \n",
       "std       0.047065            10.460157             32.895324    9784.883345   \n",
       "min       0.012000             1.000000              6.000000       0.990070   \n",
       "25%       0.070000             7.000000             22.000000       0.995600   \n",
       "50%       0.079000            14.000000             38.000000       0.996750   \n",
       "75%       0.090000            21.000000             62.000000       0.997835   \n",
       "max       0.611000            72.000000            289.000000  100369.000000   \n",
       "\n",
       "                pH    sulphates       alcohol      quality  \n",
       "count  1599.000000  1599.000000  1.599000e+03  1599.000000  \n",
       "mean      3.311113     0.658149  1.455285e+12     5.636023  \n",
       "std       0.154386     0.169507  3.370300e+13     0.807569  \n",
       "min       2.740000     0.330000  8.400000e+00     3.000000  \n",
       "25%       3.210000     0.550000  9.500000e+00     5.000000  \n",
       "50%       3.310000     0.620000  1.020000e+01     6.000000  \n",
       "75%       3.400000     0.730000  1.110000e+01     6.000000  \n",
       "max       4.010000     2.000000  9.566667e+14     8.000000  "
      ]
     },
     "execution_count": 12,
     "metadata": {},
     "output_type": "execute_result"
    }
   ],
   "source": [
    "datos.describe()"
   ]
  },
  {
   "cell_type": "markdown",
   "id": "02be150a",
   "metadata": {},
   "source": [
    "# 4. Modelo de regresión lineal múltiple"
   ]
  },
  {
   "cell_type": "markdown",
   "id": "3e549196",
   "metadata": {},
   "source": [
    "## 4.1. División de los datos"
   ]
  },
  {
   "cell_type": "markdown",
   "id": "f7c94639",
   "metadata": {},
   "source": [
    "Inicialmente, dividimos los datos en variables predictoras 'X', y variable de respuesta 'y', como sigue:"
   ]
  },
  {
   "cell_type": "code",
   "execution_count": 60,
   "id": "48ed0b64",
   "metadata": {},
   "outputs": [],
   "source": [
    "X = datos.drop(columns=['quality'])\n",
    "y = datos['quality']"
   ]
  },
  {
   "cell_type": "markdown",
   "id": "27c6fd4c",
   "metadata": {},
   "source": [
    "Como utilizaremos el paquete statsmodel, se hace necesario agregar al set de variables independientes una constante asociada al intercepto, como sigue:"
   ]
  },
  {
   "cell_type": "code",
   "execution_count": 61,
   "id": "1f5d4170",
   "metadata": {},
   "outputs": [],
   "source": [
    "X = sm.add_constant(X)"
   ]
  },
  {
   "cell_type": "markdown",
   "id": "1c8982e1",
   "metadata": {},
   "source": [
    "Finalmente, dividimos los datos en entrenamiento (80%) y prueba (20%), como sigue:"
   ]
  },
  {
   "cell_type": "code",
   "execution_count": 63,
   "id": "56c37fdf",
   "metadata": {},
   "outputs": [],
   "source": [
    "X_train, X_test, y_train, y_test = train_test_split(X, y, random_state=42, test_size = 0.2)"
   ]
  },
  {
   "cell_type": "markdown",
   "id": "50a71b4b",
   "metadata": {},
   "source": [
    "## 4.2. Ajuste del modelo"
   ]
  },
  {
   "cell_type": "code",
   "execution_count": 64,
   "id": "89e4f203",
   "metadata": {},
   "outputs": [
    {
     "name": "stdout",
     "output_type": "stream",
     "text": [
      "                            OLS Regression Results                            \n",
      "==============================================================================\n",
      "Dep. Variable:                quality   R-squared:                       0.172\n",
      "Model:                            OLS   Adj. R-squared:                  0.166\n",
      "Method:                 Least Squares   F-statistic:                     29.22\n",
      "Date:                Sat, 04 May 2024   Prob (F-statistic):           1.54e-46\n",
      "Time:                        16:21:07   Log-Likelihood:                -1419.5\n",
      "No. Observations:                1279   AIC:                             2859.\n",
      "Df Residuals:                    1269   BIC:                             2911.\n",
      "Df Model:                           9                                         \n",
      "Covariance Type:            nonrobust                                         \n",
      "========================================================================================\n",
      "                           coef    std err          t      P>|t|      [0.025      0.975]\n",
      "----------------------------------------------------------------------------------------\n",
      "const                   -0.3772      0.098     -3.848      0.000      -0.569      -0.185\n",
      "fixed acidity            0.0614      0.015      4.023      0.000       0.031       0.091\n",
      "volatile acidity        -0.0009      0.000     -2.523      0.012      -0.002      -0.000\n",
      "citric acid              1.0194      0.153      6.652      0.000       0.719       1.320\n",
      "residual sugar           0.0175      0.016      1.112      0.266      -0.013       0.048\n",
      "chlorides               -3.0418      0.437     -6.963      0.000      -3.899      -2.185\n",
      "free sulfur dioxide      0.0104      0.003      3.763      0.000       0.005       0.016\n",
      "total sulfur dioxide    -0.0065      0.001     -7.668      0.000      -0.008      -0.005\n",
      "density              -4.375e-06   2.34e-06     -1.868      0.062   -8.97e-06     2.2e-07\n",
      "pH                       1.4152      0.046     30.595      0.000       1.324       1.506\n",
      "sulphates                1.3531      0.133     10.172      0.000       1.092       1.614\n",
      "alcohol               9.255e-16   5.49e-16      1.685      0.092   -1.52e-16       2e-15\n",
      "==============================================================================\n",
      "Omnibus:                       21.792   Durbin-Watson:                   2.064\n",
      "Prob(Omnibus):                  0.000   Jarque-Bera (JB):               38.527\n",
      "Skew:                          -0.076   Prob(JB):                     4.31e-09\n",
      "Kurtosis:                       3.837   Cond. No.                     1.48e+15\n",
      "==============================================================================\n",
      "\n",
      "Notes:\n",
      "[1] Standard Errors assume that the covariance matrix of the errors is correctly specified.\n",
      "[2] The condition number is large, 1.48e+15. This might indicate that there are\n",
      "strong multicollinearity or other numerical problems.\n"
     ]
    }
   ],
   "source": [
    "modelo = sm.OLS(y_train, X_train).fit()\n",
    "print(modelo.summary())"
   ]
  },
  {
   "cell_type": "markdown",
   "id": "09c61901",
   "metadata": {},
   "source": [
    "Tal y como observamos, el modelo es bastante pobre. En particular, se tiene un R cuadrado ajustado de 0.166, un valor muy bajo que indica que la variabilidad de la calidad del vino es bajamente explicada por la influencia de las variables predictoras seleccionadas."
   ]
  },
  {
   "cell_type": "markdown",
   "id": "da39928e",
   "metadata": {},
   "source": [
    "Por otra parte, observamos que las variables 'residual sugar', 'density' y 'alcohol' no son significativas, puesto que los p-values obtenidos en las pruebas de significancia marginales de los parámetros, son superiores a 0.05. Lo cual indica que los valores de los Betas son estadísticamente iguales a cero."
   ]
  },
  {
   "cell_type": "markdown",
   "id": "5fbe09e9",
   "metadata": {},
   "source": [
    "Si volviéramos a ajustar el modelo eliminando a estas variables, tendríamos lo siguiente:"
   ]
  },
  {
   "cell_type": "code",
   "execution_count": 74,
   "id": "1cd90321",
   "metadata": {},
   "outputs": [],
   "source": [
    "X = datos.drop(columns=['quality', 'residual sugar', 'density', 'alcohol'])\n",
    "X = sm.add_constant(X)"
   ]
  },
  {
   "cell_type": "code",
   "execution_count": 75,
   "id": "2ca9c8f5",
   "metadata": {},
   "outputs": [],
   "source": [
    "X_train, X_test, y_train, y_test = train_test_split(X, y, random_state=42, test_size = 0.2)"
   ]
  },
  {
   "cell_type": "code",
   "execution_count": 76,
   "id": "6e6528e0",
   "metadata": {},
   "outputs": [
    {
     "name": "stdout",
     "output_type": "stream",
     "text": [
      "                            OLS Regression Results                            \n",
      "==============================================================================\n",
      "Dep. Variable:                quality   R-squared:                       0.211\n",
      "Model:                            OLS   Adj. R-squared:                  0.206\n",
      "Method:                 Least Squares   F-statistic:                     42.34\n",
      "Date:                Sat, 04 May 2024   Prob (F-statistic):           2.61e-60\n",
      "Time:                        16:26:22   Log-Likelihood:                -1388.7\n",
      "No. Observations:                1279   AIC:                             2795.\n",
      "Df Residuals:                    1270   BIC:                             2842.\n",
      "Df Model:                           8                                         \n",
      "Covariance Type:            nonrobust                                         \n",
      "========================================================================================\n",
      "                           coef    std err          t      P>|t|      [0.025      0.975]\n",
      "----------------------------------------------------------------------------------------\n",
      "const                    5.8139      0.748      7.770      0.000       4.346       7.282\n",
      "fixed acidity           -0.0509      0.019     -2.654      0.008      -0.089      -0.013\n",
      "volatile acidity        -0.0008      0.000     -2.369      0.018      -0.001      -0.000\n",
      "citric acid              1.1143      0.147      7.557      0.000       0.825       1.404\n",
      "chlorides               -4.5249      0.459     -9.848      0.000      -5.426      -3.623\n",
      "free sulfur dioxide      0.0115      0.003      4.316      0.000       0.006       0.017\n",
      "total sulfur dioxide    -0.0079      0.001     -9.303      0.000      -0.010      -0.006\n",
      "pH                      -0.1029      0.190     -0.541      0.588      -0.476       0.270\n",
      "sulphates                1.3031      0.130     10.052      0.000       1.049       1.557\n",
      "==============================================================================\n",
      "Omnibus:                       13.257   Durbin-Watson:                   2.075\n",
      "Prob(Omnibus):                  0.001   Jarque-Bera (JB):               20.270\n",
      "Skew:                          -0.038   Prob(JB):                     3.97e-05\n",
      "Kurtosis:                       3.612   Cond. No.                     2.39e+03\n",
      "==============================================================================\n",
      "\n",
      "Notes:\n",
      "[1] Standard Errors assume that the covariance matrix of the errors is correctly specified.\n",
      "[2] The condition number is large, 2.39e+03. This might indicate that there are\n",
      "strong multicollinearity or other numerical problems.\n"
     ]
    }
   ],
   "source": [
    "modelo = sm.OLS(y_train, X_train).fit()\n",
    "print(modelo.summary())"
   ]
  },
  {
   "cell_type": "markdown",
   "id": "90ac8e99",
   "metadata": {},
   "source": [
    "Ahora observamos que la variable 'pH' pasa a ser no significativa, al tener un p-value demasiado alto (0.58). Luego, reajustando el modelo, tenemos:"
   ]
  },
  {
   "cell_type": "code",
   "execution_count": 77,
   "id": "a45a07fe",
   "metadata": {},
   "outputs": [],
   "source": [
    "X = datos.drop(columns=['quality', 'residual sugar', 'density', 'alcohol', 'pH'])\n",
    "X = sm.add_constant(X)"
   ]
  },
  {
   "cell_type": "code",
   "execution_count": 78,
   "id": "2ff556e3",
   "metadata": {},
   "outputs": [],
   "source": [
    "X_train, X_test, y_train, y_test = train_test_split(X, y, random_state=42, test_size = 0.2)"
   ]
  },
  {
   "cell_type": "code",
   "execution_count": 79,
   "id": "af623c17",
   "metadata": {},
   "outputs": [
    {
     "name": "stdout",
     "output_type": "stream",
     "text": [
      "                            OLS Regression Results                            \n",
      "==============================================================================\n",
      "Dep. Variable:                quality   R-squared:                       0.210\n",
      "Model:                            OLS   Adj. R-squared:                  0.206\n",
      "Method:                 Least Squares   F-statistic:                     48.37\n",
      "Date:                Sat, 04 May 2024   Prob (F-statistic):           4.16e-61\n",
      "Time:                        16:27:34   Log-Likelihood:                -1388.9\n",
      "No. Observations:                1279   AIC:                             2794.\n",
      "Df Residuals:                    1271   BIC:                             2835.\n",
      "Df Model:                           7                                         \n",
      "Covariance Type:            nonrobust                                         \n",
      "========================================================================================\n",
      "                           coef    std err          t      P>|t|      [0.025      0.975]\n",
      "----------------------------------------------------------------------------------------\n",
      "const                    5.4165      0.144     37.629      0.000       5.134       5.699\n",
      "fixed acidity           -0.0452      0.016     -2.820      0.005      -0.077      -0.014\n",
      "volatile acidity        -0.0008      0.000     -2.379      0.018      -0.001      -0.000\n",
      "citric acid              1.1199      0.147      7.615      0.000       0.831       1.408\n",
      "chlorides               -4.4642      0.445    -10.021      0.000      -5.338      -3.590\n",
      "free sulfur dioxide      0.0114      0.003      4.284      0.000       0.006       0.017\n",
      "total sulfur dioxide    -0.0078      0.001     -9.392      0.000      -0.009      -0.006\n",
      "sulphates                1.3037      0.130     10.060      0.000       1.049       1.558\n",
      "==============================================================================\n",
      "Omnibus:                       13.661   Durbin-Watson:                   2.074\n",
      "Prob(Omnibus):                  0.001   Jarque-Bera (JB):               21.056\n",
      "Skew:                          -0.040   Prob(JB):                     2.68e-05\n",
      "Kurtosis:                       3.623   Cond. No.                     1.37e+03\n",
      "==============================================================================\n",
      "\n",
      "Notes:\n",
      "[1] Standard Errors assume that the covariance matrix of the errors is correctly specified.\n",
      "[2] The condition number is large, 1.37e+03. This might indicate that there are\n",
      "strong multicollinearity or other numerical problems.\n"
     ]
    }
   ],
   "source": [
    "modelo = sm.OLS(y_train, X_train).fit()\n",
    "print(modelo.summary())"
   ]
  },
  {
   "cell_type": "markdown",
   "id": "6f00caad",
   "metadata": {},
   "source": [
    "Observamos que el R2 ajustado mejoró un poco, sin embargo, sigue siendo bastante bajo. En particular, se recomienda utilizar métodos exhaustivos e iterativos de selección de variables como el método forward o el método backward. En este caso, trabajaremos con las variables del último modelo ajustado."
   ]
  },
  {
   "cell_type": "markdown",
   "id": "001f04e4",
   "metadata": {},
   "source": [
    "## 4.3. Validación del rendimiento del modelo"
   ]
  },
  {
   "cell_type": "markdown",
   "id": "8ae9f111",
   "metadata": {},
   "source": [
    "Previamente analizamos el R2 ajustado del modelo, obteniendo el siguiente valor:"
   ]
  },
  {
   "cell_type": "code",
   "execution_count": 80,
   "id": "8e9ffcd3",
   "metadata": {},
   "outputs": [
    {
     "name": "stdout",
     "output_type": "stream",
     "text": [
      "R² ajustado: 0.20601118228655957\n"
     ]
    }
   ],
   "source": [
    "r2_ajustado = modelo.rsquared_adj\n",
    "\n",
    "print(\"R² ajustado:\", r2_ajustado)"
   ]
  },
  {
   "cell_type": "markdown",
   "id": "d214a1b1",
   "metadata": {},
   "source": [
    "A continuación, procederemos a calcular el MSE y RMSE del modelo tanto para la muestra de train como para la muestra de train como sigue:"
   ]
  },
  {
   "cell_type": "code",
   "execution_count": 81,
   "id": "b9b3c7ca",
   "metadata": {},
   "outputs": [],
   "source": [
    "from sklearn.metrics import mean_squared_error"
   ]
  },
  {
   "cell_type": "code",
   "execution_count": 83,
   "id": "a54f71fd",
   "metadata": {},
   "outputs": [
    {
     "name": "stdout",
     "output_type": "stream",
     "text": [
      "MSE en el conjunto de entrenamiento: 0.5137338492826374\n",
      "RMSE en el conjunto de entrenamiento: 0.7167522928338893\n"
     ]
    }
   ],
   "source": [
    "### Muestra de train\n",
    "y_pred = modelo.predict(X_train)\n",
    "mse = mean_squared_error(y_train, y_pred)\n",
    "rmse = mse**(1/2)\n",
    "print(\"MSE en el conjunto de entrenamiento:\", mse)\n",
    "print(\"RMSE en el conjunto de entrenamiento:\", rmse)"
   ]
  },
  {
   "cell_type": "code",
   "execution_count": 84,
   "id": "91678df2",
   "metadata": {},
   "outputs": [
    {
     "name": "stdout",
     "output_type": "stream",
     "text": [
      "MSE en el conjunto de prueba: 0.5194372960051794\n",
      "RMSE en el conjunto de prueba: 0.7207199844635775\n"
     ]
    }
   ],
   "source": [
    "### Muestra de test\n",
    "y_pred = modelo.predict(X_test)\n",
    "mse = mean_squared_error(y_test, y_pred)\n",
    "rmse = mse**(1/2)\n",
    "print(\"MSE en el conjunto de prueba:\", mse)\n",
    "print(\"RMSE en el conjunto de prueba:\", rmse)"
   ]
  },
  {
   "cell_type": "markdown",
   "id": "3e84244a",
   "metadata": {},
   "source": [
    "Vamos que, en general, los resultados son bastante similares. Sería conveniente comparar este RMSE con el de otros modelos de regresión como Random Forest Regressor o XGBoost Regressor."
   ]
  },
  {
   "cell_type": "markdown",
   "id": "a6ef1f6e",
   "metadata": {},
   "source": [
    "## 4.4. Validación de los supuestos del modelo"
   ]
  },
  {
   "cell_type": "markdown",
   "id": "165371f6",
   "metadata": {},
   "source": [
    "Inicialmente, calculamos los residuos como sigue:"
   ]
  },
  {
   "cell_type": "code",
   "execution_count": 85,
   "id": "f49f2a02",
   "metadata": {},
   "outputs": [],
   "source": [
    "residuos = modelo.resid\n",
    "valores_ajustados = modelo.fittedvalues"
   ]
  },
  {
   "cell_type": "markdown",
   "id": "6a128814",
   "metadata": {},
   "source": [
    "### 4.4.1. Supuesto de normalidad"
   ]
  },
  {
   "cell_type": "code",
   "execution_count": 86,
   "id": "f02f0873",
   "metadata": {},
   "outputs": [
    {
     "name": "stdout",
     "output_type": "stream",
     "text": [
      "Shapiro-Wilk valor p: 1.9616043573478237e-05\n"
     ]
    }
   ],
   "source": [
    "# Prueba Shapiro-Wilk\n",
    "shapiro_test = stats.shapiro(residuos)\n",
    "print(\"Shapiro-Wilk valor p:\", shapiro_test.pvalue)"
   ]
  },
  {
   "cell_type": "code",
   "execution_count": 87,
   "id": "d3dff3f5",
   "metadata": {},
   "outputs": [
    {
     "data": {
      "image/png": "[encoded data removed]",
      "text/plain": [
       "<Figure size 800x600 with 1 Axes>"
      ]
     },
     "metadata": {},
     "output_type": "display_data"
    }
   ],
   "source": [
    "# Gráfico Q-Q Plot\n",
    "plt.figure(figsize=(8, 6))\n",
    "stats.probplot(residuos, dist=\"norm\", plot=plt)\n",
    "plt.title('Q-Q Plot de residuales')\n",
    "plt.show()"
   ]
  },
  {
   "cell_type": "markdown",
   "id": "97983785",
   "metadata": {},
   "source": [
    "Dado que el valor p obtenido en la prueba de Shapiro-Wilk es menor que 0.05, se rechaza la hipótesus nula de que los residuos del modelo están normalmente distribuidos.\n",
    "\n",
    "Esto coincide con el hecho de que en el gráfico Q-Q Plot, los puntos no se ajustan perfectamente a la línea recta de color rojo.\n",
    "\n",
    "En conclusión, este primer supuesto no se cumple."
   ]
  },
  {
   "cell_type": "markdown",
   "id": "bd279d39",
   "metadata": {},
   "source": [
    "### 4.4.2. Homocedasticidad"
   ]
  },
  {
   "cell_type": "code",
   "execution_count": 88,
   "id": "c016a310",
   "metadata": {},
   "outputs": [
    {
     "data": {
      "image/png": "[encoded data removed]",
      "text/plain": [
       "<Figure size 800x600 with 1 Axes>"
      ]
     },
     "metadata": {},
     "output_type": "display_data"
    }
   ],
   "source": [
    "plt.figure(figsize=(8, 6))\n",
    "plt.scatter(valores_ajustados, residuos)\n",
    "plt.axhline(y=0, color='red', linestyle='--')\n",
    "plt.title('Residuales vs Valores ajustados')\n",
    "plt.xlabel('Valores ajustados')\n",
    "plt.ylabel('Residuales')\n",
    "plt.show()"
   ]
  },
  {
   "cell_type": "markdown",
   "id": "bcf36541",
   "metadata": {},
   "source": [
    "Como observamos, los puntos del gráfico siguen un patrón de agrupaciones, y muchos están alejados del valor de cero. Esto también sugiere que el supuesto de homocedasaticidad no se está cumpliendo y los residuos, en cambio, son heterocedásticos."
   ]
  },
  {
   "cell_type": "markdown",
   "id": "a53be0e9",
   "metadata": {},
   "source": [
    "### 4.4.3. Supuesto de independencia"
   ]
  },
  {
   "cell_type": "code",
   "execution_count": 89,
   "id": "08f87640",
   "metadata": {},
   "outputs": [
    {
     "name": "stdout",
     "output_type": "stream",
     "text": [
      "Durbin-Watson test: 2.073956897124365\n"
     ]
    }
   ],
   "source": [
    "from statsmodels.stats.stattools import durbin_watson\n",
    "\n",
    "durbin_watson_test = durbin_watson(residuos)\n",
    "print(\"Durbin-Watson test:\", durbin_watson_test)"
   ]
  },
  {
   "cell_type": "markdown",
   "id": "3dbe9cc6",
   "metadata": {},
   "source": [
    "Dado que el estadístico de Durbin-Watson está cerca de 2 (entre 1.5 y 2.5), se considera que no hay autocorrelación significativa entre los residuos, lo que indica que el supuesto de independencia de los residuos se cumple."
   ]
  },
  {
   "cell_type": "markdown",
   "id": "7a2decad",
   "metadata": {},
   "source": [
    "### 4.4.4. Multicolinealidad"
   ]
  },
  {
   "cell_type": "code",
   "execution_count": 90,
   "id": "47ddee9c",
   "metadata": {},
   "outputs": [
    {
     "name": "stdout",
     "output_type": "stream",
     "text": [
      "Matriz de correlación entre variables predictoras:\n",
      "                      const  fixed acidity  volatile acidity  citric acid  \\\n",
      "const                   NaN            NaN               NaN          NaN   \n",
      "fixed acidity           NaN       1.000000         -0.001996     0.671703   \n",
      "volatile acidity        NaN      -0.001996          1.000000    -0.033493   \n",
      "citric acid             NaN       0.671703         -0.033493     1.000000   \n",
      "chlorides               NaN       0.093705          0.000546     0.203823   \n",
      "free sulfur dioxide     NaN      -0.153794         -0.029612    -0.060978   \n",
      "total sulfur dioxide    NaN      -0.113181         -0.014078     0.035533   \n",
      "sulphates               NaN       0.183006         -0.040616     0.312770   \n",
      "\n",
      "                      chlorides  free sulfur dioxide  total sulfur dioxide  \\\n",
      "const                       NaN                  NaN                   NaN   \n",
      "fixed acidity          0.093705            -0.153794             -0.113181   \n",
      "volatile acidity       0.000546            -0.029612             -0.014078   \n",
      "citric acid            0.203823            -0.060978              0.035533   \n",
      "chlorides              1.000000             0.005562              0.047400   \n",
      "free sulfur dioxide    0.005562             1.000000              0.667666   \n",
      "total sulfur dioxide   0.047400             0.667666              1.000000   \n",
      "sulphates              0.371260             0.051658              0.042947   \n",
      "\n",
      "                      sulphates  \n",
      "const                       NaN  \n",
      "fixed acidity          0.183006  \n",
      "volatile acidity      -0.040616  \n",
      "citric acid            0.312770  \n",
      "chlorides              0.371260  \n",
      "free sulfur dioxide    0.051658  \n",
      "total sulfur dioxide   0.042947  \n",
      "sulphates              1.000000  \n"
     ]
    }
   ],
   "source": [
    "correlation_matrix = X.corr()\n",
    "print(\"Matriz de correlación entre variables predictoras:\")\n",
    "print(correlation_matrix)"
   ]
  },
  {
   "cell_type": "code",
   "execution_count": 91,
   "id": "20fd42d9",
   "metadata": {},
   "outputs": [
    {
     "name": "stdout",
     "output_type": "stream",
     "text": [
      "VIF para variables predictoras:\n",
      "               Variable        VIF\n",
      "0                 const  50.965694\n",
      "1         fixed acidity   1.896510\n",
      "2      volatile acidity   1.004066\n",
      "3           citric acid   2.027621\n",
      "4             chlorides   1.177257\n",
      "5   free sulfur dioxide   1.843831\n",
      "6  total sulfur dioxide   1.852049\n",
      "7             sulphates   1.254495\n"
     ]
    }
   ],
   "source": [
    "from statsmodels.stats.outliers_influence import variance_inflation_factor\n",
    "\n",
    "vif = pd.DataFrame()\n",
    "vif[\"Variable\"] = X.columns\n",
    "vif[\"VIF\"] = [variance_inflation_factor(X.values, i) for i in range(X.shape[1])]\n",
    "print(\"VIF para variables predictoras:\")\n",
    "print(vif)"
   ]
  },
  {
   "cell_type": "markdown",
   "id": "e6894019",
   "metadata": {},
   "source": [
    "Como en todas las variables predictoras el valor del VIF es menor que 10 (exceptuando el intercepto), podemos afirmar que no existen problemas de multicolinealdiad."
   ]
  },
  {
   "cell_type": "markdown",
   "id": "33242373",
   "metadata": {},
   "source": [
    "## 4.5. Conclusión"
   ]
  },
  {
   "cell_type": "markdown",
   "id": "93f9aa40",
   "metadata": {},
   "source": [
    "A pesar de un R cuadrado ajustado sólido, la falta de normalidad y homocedasticidad en los residuos sugiere que el modelo podría no ser completamente confiable. En el futuro, se pueden considerar ajustes en la recopilación de datos o en la especificación del modelo para mejorar su validez y robustez."
   ]
  },
  {
   "cell_type": "markdown",
   "id": "1ca947fd",
   "metadata": {},
   "source": [
    "# 5. Modelo de regresión logística"
   ]
  },
  {
   "cell_type": "markdown",
   "id": "63be25b2",
   "metadata": {},
   "source": [
    "## 5.1. División de los datos"
   ]
  },
  {
   "cell_type": "markdown",
   "id": "32e90391",
   "metadata": {},
   "source": [
    "Inicialmente, definimos las variables predictoras y de respuesta como sigue:"
   ]
  },
  {
   "cell_type": "code",
   "execution_count": 100,
   "id": "37366739",
   "metadata": {},
   "outputs": [],
   "source": [
    "X = datos.drop(columns=['quality'])\n",
    "y = (datos.quality >= 6).astype(int) ## Si la calidad es mayor o igual a 6, toma el valor de 1. En caso contrario, 0."
   ]
  },
  {
   "cell_type": "markdown",
   "id": "10554f3d",
   "metadata": {},
   "source": [
    "Finalmente, dividimos los datos en train y test, utilizando el 20% de las observaciones en la muestra de test."
   ]
  },
  {
   "cell_type": "code",
   "execution_count": 103,
   "id": "5bd19123",
   "metadata": {},
   "outputs": [],
   "source": [
    "xtrain, xtest, ytrain, ytest = train_test_split(X, y, random_state=42, test_size = 0.2)"
   ]
  },
  {
   "cell_type": "markdown",
   "id": "eccaa493",
   "metadata": {},
   "source": [
    "## 5.2. Entrenamiento del modelo"
   ]
  },
  {
   "cell_type": "code",
   "execution_count": 104,
   "id": "029a2eb9",
   "metadata": {},
   "outputs": [
    {
     "data": {
      "text/html": [
       "<style>#sk-container-id-1 {color: black;background-color: white;}#sk-container-id-1 pre{padding: 0;}#sk-container-id-1 div.sk-toggleable {background-color: white;}#sk-container-id-1 label.sk-toggleable__label {cursor: pointer;display: block;width: 100%;margin-bottom: 0;padding: 0.3em;box-sizing: border-box;text-align: center;}#sk-container-id-1 label.sk-toggleable__label-arrow:before {content: \"▸\";float: left;margin-right: 0.25em;color: #696969;}#sk-container-id-1 label.sk-toggleable__label-arrow:hover:before {color: black;}#sk-container-id-1 div.sk-estimator:hover label.sk-toggleable__label-arrow:before {color: black;}#sk-container-id-1 div.sk-toggleable__content {max-height: 0;max-width: 0;overflow: hidden;text-align: left;background-color: #f0f8ff;}#sk-container-id-1 div.sk-toggleable__content pre {margin: 0.2em;color: black;border-radius: 0.25em;background-color: #f0f8ff;}#sk-container-id-1 input.sk-toggleable__control:checked~div.sk-toggleable__content {max-height: 200px;max-width: 100%;overflow: auto;}#sk-container-id-1 input.sk-toggleable__control:checked~label.sk-toggleable__label-arrow:before {content: \"▾\";}#sk-container-id-1 div.sk-estimator input.sk-toggleable__control:checked~label.sk-toggleable__label {background-color: #d4ebff;}#sk-container-id-1 div.sk-label input.sk-toggleable__control:checked~label.sk-toggleable__label {background-color: #d4ebff;}#sk-container-id-1 input.sk-hidden--visually {border: 0;clip: rect(1px 1px 1px 1px);clip: rect(1px, 1px, 1px, 1px);height: 1px;margin: -1px;overflow: hidden;padding: 0;position: absolute;width: 1px;}#sk-container-id-1 div.sk-estimator {font-family: monospace;background-color: #f0f8ff;border: 1px dotted black;border-radius: 0.25em;box-sizing: border-box;margin-bottom: 0.5em;}#sk-container-id-1 div.sk-estimator:hover {background-color: #d4ebff;}#sk-container-id-1 div.sk-parallel-item::after {content: \"\";width: 100%;border-bottom: 1px solid gray;flex-grow: 1;}#sk-container-id-1 div.sk-label:hover label.sk-toggleable__label {background-color: #d4ebff;}#sk-container-id-1 div.sk-serial::before {content: \"\";position: absolute;border-left: 1px solid gray;box-sizing: border-box;top: 0;bottom: 0;left: 50%;z-index: 0;}#sk-container-id-1 div.sk-serial {display: flex;flex-direction: column;align-items: center;background-color: white;padding-right: 0.2em;padding-left: 0.2em;position: relative;}#sk-container-id-1 div.sk-item {position: relative;z-index: 1;}#sk-container-id-1 div.sk-parallel {display: flex;align-items: stretch;justify-content: center;background-color: white;position: relative;}#sk-container-id-1 div.sk-item::before, #sk-container-id-1 div.sk-parallel-item::before {content: \"\";position: absolute;border-left: 1px solid gray;box-sizing: border-box;top: 0;bottom: 0;left: 50%;z-index: -1;}#sk-container-id-1 div.sk-parallel-item {display: flex;flex-direction: column;z-index: 1;position: relative;background-color: white;}#sk-container-id-1 div.sk-parallel-item:first-child::after {align-self: flex-end;width: 50%;}#sk-container-id-1 div.sk-parallel-item:last-child::after {align-self: flex-start;width: 50%;}#sk-container-id-1 div.sk-parallel-item:only-child::after {width: 0;}#sk-container-id-1 div.sk-dashed-wrapped {border: 1px dashed gray;margin: 0 0.4em 0.5em 0.4em;box-sizing: border-box;padding-bottom: 0.4em;background-color: white;}#sk-container-id-1 div.sk-label label {font-family: monospace;font-weight: bold;display: inline-block;line-height: 1.2em;}#sk-container-id-1 div.sk-label-container {text-align: center;}#sk-container-id-1 div.sk-container {/* jupyter's `normalize.less` sets `[hidden] { display: none; }` but bootstrap.min.css set `[hidden] { display: none !important; }` so we also need the `!important` here to be able to override the default hidden behavior on the sphinx rendered scikit-learn.org. See: https://github.com/scikit-learn/scikit-learn/issues/21755 */display: inline-block !important;position: relative;}#sk-container-id-1 div.sk-text-repr-fallback {display: none;}</style><div id=\"sk-container-id-1\" class=\"sk-top-container\"><div class=\"sk-text-repr-fallback\"><pre>Pipeline(steps=[(&#x27;scaler&#x27;, StandardScaler()),\n",
       "                (&#x27;logistic Regession&#x27;, LogisticRegression())])</pre><b>In a Jupyter environment, please rerun this cell to show the HTML representation or trust the notebook. <br />On GitHub, the HTML representation is unable to render, please try loading this page with nbviewer.org.</b></div><div class=\"sk-container\" hidden><div class=\"sk-item sk-dashed-wrapped\"><div class=\"sk-label-container\"><div class=\"sk-label sk-toggleable\"><input class=\"sk-toggleable__control sk-hidden--visually\" id=\"sk-estimator-id-1\" type=\"checkbox\" ><label for=\"sk-estimator-id-1\" class=\"sk-toggleable__label sk-toggleable__label-arrow\">Pipeline</label><div class=\"sk-toggleable__content\"><pre>Pipeline(steps=[(&#x27;scaler&#x27;, StandardScaler()),\n",
       "                (&#x27;logistic Regession&#x27;, LogisticRegression())])</pre></div></div></div><div class=\"sk-serial\"><div class=\"sk-item\"><div class=\"sk-estimator sk-toggleable\"><input class=\"sk-toggleable__control sk-hidden--visually\" id=\"sk-estimator-id-2\" type=\"checkbox\" ><label for=\"sk-estimator-id-2\" class=\"sk-toggleable__label sk-toggleable__label-arrow\">StandardScaler</label><div class=\"sk-toggleable__content\"><pre>StandardScaler()</pre></div></div></div><div class=\"sk-item\"><div class=\"sk-estimator sk-toggleable\"><input class=\"sk-toggleable__control sk-hidden--visually\" id=\"sk-estimator-id-3\" type=\"checkbox\" ><label for=\"sk-estimator-id-3\" class=\"sk-toggleable__label sk-toggleable__label-arrow\">LogisticRegression</label><div class=\"sk-toggleable__content\"><pre>LogisticRegression()</pre></div></div></div></div></div></div></div>"
      ],
      "text/plain": [
       "Pipeline(steps=[('scaler', StandardScaler()),\n",
       "                ('logistic Regession', LogisticRegression())])"
      ]
     },
     "execution_count": 104,
     "metadata": {},
     "output_type": "execute_result"
    }
   ],
   "source": [
    "from sklearn.linear_model import LogisticRegression\n",
    "from sklearn.preprocessing import StandardScaler\n",
    "from sklearn.pipeline import Pipeline\n",
    "\n",
    "classifier = Pipeline([('scaler', StandardScaler()),\n",
    "                       ('logistic Regession', LogisticRegression())])\n",
    "\n",
    "\n",
    "classifier.fit(xtrain, ytrain)"
   ]
  },
  {
   "cell_type": "markdown",
   "id": "2885861a",
   "metadata": {},
   "source": [
    "## 5.2. Evaluación del modelo"
   ]
  },
  {
   "cell_type": "markdown",
   "id": "b8111a2a",
   "metadata": {},
   "source": [
    "### 5.2.1. Matriz de confusión"
   ]
  },
  {
   "cell_type": "code",
   "execution_count": 106,
   "id": "131ec64e",
   "metadata": {},
   "outputs": [
    {
     "name": "stdout",
     "output_type": "stream",
     "text": [
      "Confusion Matrix: \n",
      " [[ 85  56]\n",
      " [ 50 129]]\n"
     ]
    }
   ],
   "source": [
    "from sklearn.metrics import confusion_matrix\n",
    "\n",
    "ypred = classifier.predict(xtest)\n",
    "conf_matrix = confusion_matrix(ytest, ypred)\n",
    "\n",
    "print (\"Confusion Matrix: \\n\", conf_matrix)"
   ]
  },
  {
   "cell_type": "markdown",
   "id": "69e043ab",
   "metadata": {},
   "source": [
    "Representamos esta matriz a través de un mapa de calor, como sigue:"
   ]
  },
  {
   "cell_type": "code",
   "execution_count": 107,
   "id": "a847e370",
   "metadata": {
    "scrolled": true
   },
   "outputs": [
    {
     "data": {
      "text/plain": [
       "Text(0.5, 1.0, 'Confusion Matrix - Logistic Regression')"
      ]
     },
     "execution_count": 107,
     "metadata": {},
     "output_type": "execute_result"
    },
    {
     "data": {
      "image/png": "[encoded data removed]",
      "text/plain": [
       "<Figure size 1000x1000 with 2 Axes>"
      ]
     },
     "metadata": {},
     "output_type": "display_data"
    }
   ],
   "source": [
    "from sklearn.metrics import confusion_matrix, ConfusionMatrixDisplay\n",
    "plt.rcParams.update({'font.size': 16})\n",
    "fig, axes = plt.subplots(figsize=(10, 10))\n",
    "disp = ConfusionMatrixDisplay.from_estimator(classifier,\n",
    "                                             xtest,\n",
    "                                             ytest,\n",
    "                                             display_labels=classifier.classes_,\n",
    "                                             cmap=plt.cm.Blues,\n",
    "                                             ax=axes\n",
    "                                             )\n",
    "disp.ax_.set_title('Confusion Matrix - Logistic Regression')"
   ]
  },
  {
   "cell_type": "markdown",
   "id": "31dfb70a",
   "metadata": {},
   "source": [
    "### 5.2.2. Métricas de desempeño"
   ]
  },
  {
   "cell_type": "markdown",
   "id": "cc36fdb0",
   "metadata": {},
   "source": [
    "Calculamos las diferentes métricas del modelo, como sigue:"
   ]
  },
  {
   "cell_type": "code",
   "execution_count": 109,
   "id": "ad76a266",
   "metadata": {},
   "outputs": [
    {
     "name": "stdout",
     "output_type": "stream",
     "text": [
      "              precision    recall  f1-score   support\n",
      "\n",
      "   Vino malo       0.63      0.60      0.62       141\n",
      "  Vino bueno       0.70      0.72      0.71       179\n",
      "\n",
      "    accuracy                           0.67       320\n",
      "   macro avg       0.66      0.66      0.66       320\n",
      "weighted avg       0.67      0.67      0.67       320\n",
      "\n"
     ]
    }
   ],
   "source": [
    "from sklearn.metrics import classification_report\n",
    "target_names = ['Vino malo', 'Vino bueno']\n",
    "print(classification_report(ytest, ypred, target_names=target_names))"
   ]
  },
  {
   "cell_type": "markdown",
   "id": "f9c47760",
   "metadata": {},
   "source": [
    "Vemos que la precisión del modelo es inferior al 80%, un valor que si bien no es muy alto, es relativamente aceptable."
   ]
  },
  {
   "cell_type": "markdown",
   "id": "da374127",
   "metadata": {},
   "source": [
    "Finalmente, podemos validar los valores de las probabilidades asignados a cada uno de los elementos del conjunto de prueba:"
   ]
  },
  {
   "cell_type": "code",
   "execution_count": 110,
   "id": "05ac637b",
   "metadata": {},
   "outputs": [
    {
     "data": {
      "text/plain": [
       "array([0, 0, 1, 1, 1])"
      ]
     },
     "execution_count": 110,
     "metadata": {},
     "output_type": "execute_result"
    }
   ],
   "source": [
    "y_predicted = classifier.predict(xtest)\n",
    "y_predicted[:5]"
   ]
  },
  {
   "cell_type": "code",
   "execution_count": 111,
   "id": "bcdda696",
   "metadata": {},
   "outputs": [
    {
     "data": {
      "text/plain": [
       "array([[0.66128591, 0.33871409],\n",
       "       [0.89275208, 0.10724792],\n",
       "       [0.23172217, 0.76827783],\n",
       "       [0.43231048, 0.56768952],\n",
       "       [0.36712865, 0.63287135]])"
      ]
     },
     "execution_count": 111,
     "metadata": {},
     "output_type": "execute_result"
    }
   ],
   "source": [
    "y_prob = classifier.predict_proba(xtest)\n",
    "y_prob[:5]"
   ]
  },
  {
   "cell_type": "markdown",
   "id": "a3fb6aa1",
   "metadata": {},
   "source": [
    "### 5.2.3. ROC y AUC"
   ]
  },
  {
   "cell_type": "code",
   "execution_count": 114,
   "id": "054da2c6",
   "metadata": {
    "scrolled": true
   },
   "outputs": [
    {
     "data": {
      "image/png": "[encoded data removed]",
      "text/plain": [
       "<Figure size 1000x800 with 1 Axes>"
      ]
     },
     "metadata": {},
     "output_type": "display_data"
    }
   ],
   "source": [
    "import matplotlib.pyplot as plt\n",
    "from sklearn import datasets, metrics\n",
    "from sklearn.metrics import RocCurveDisplay\n",
    "\n",
    "fig, ax = plt.subplots()\n",
    "fig.set_size_inches(10,8)\n",
    "RocCurveDisplay.from_estimator(classifier, xtest, ytest, ax=ax, color=\"darkorange\")\n",
    "plt.plot([0, 1], [0, 1], color=\"navy\", linestyle=\"--\")\n",
    "plt.xlabel(\"False Positive Rate\")\n",
    "plt.ylabel(\"True Positive Rate\")\n",
    "plt.title(\"ROC - Logistic Regression\")\n",
    "plt.grid()\n",
    "plt.show()"
   ]
  },
  {
   "cell_type": "markdown",
   "id": "0450e6e4",
   "metadata": {},
   "source": [
    "En general, los siguientes valores se pueden considerar como una guía para interpretar el AUC-ROC:\n",
    "\n",
    "* 0.5 - 0.7: Aceptable.\n",
    "* 0.7 - 0.8: Bueno.\n",
    "* 0.8 - 0.9: Muy bueno.\n",
    "* 0.9 - 1.0: Excelente.\n",
    "\n",
    "En este caso, dado que obtuvimos un valor de 0.74, podemos afirmar que nuestro modelo es relativamente bueno."
   ]
  },
  {
   "cell_type": "markdown",
   "id": "a0571df1",
   "metadata": {},
   "source": [
    "# 6. Conclusiones"
   ]
  },
  {
   "cell_type": "markdown",
   "id": "0d51b83f",
   "metadata": {},
   "source": [
    "Realizamos un análisis de la calidad del vino tinto, partiendo de las siguientes variables de respuesta:\n",
    "\n",
    "* y = Calidad del vino, variable numérica entera que toma valores entre 0 y 1. Para este caso, ajustamos un modelo de regresión lineal múltiple.\n",
    "* y = Vino bueno o malo, variable binaria que toma el valor de 1 si la calidad del vino es mayor o igual a 6 (vino bueno), y 0 en caso contrario. Para este caso, ajustamos un modelo de regresión logística.\n",
    "\n",
    "En general, se recomienda hacer uso de un modelo de **regresión logística**, pues para este modelo se obtuvo un rendimiento que, si bien no es perfecto, es aceptable, partiendo de métricas como el Accuracy y el AUC. Al ajustar un modelo de regresión lineal múltiple obtuvimos un R cuadrado ajustado muy pobre y, a la hora de validar los modelos, 2 de los 4 supuestos validados no se cumplieron.\n",
    "\n",
    "De igual forma, se recomienda realizar ajustes en la recopilación de datos o en la especificación del modelo para mejorar su validez y robustez. Así mismo, es importante evaluar otros modelos de mayor poder predictivo como árboles de decisión y métodos de ensamblaje. También se recomienda emplear técnicas exhaustivas e iterativas para seleccionar las variables que más valor agregan al modelo, tales como el método forward o el método backward."
   ]
  }
 ],
 "metadata": {
  "kernelspec": {
   "display_name": "Python 3 (ipykernel)",
   "language": "python",
   "name": "python3"
  },
  "language_info": {
   "codemirror_mode": {
    "name": "ipython",
    "version": 3
   },
   "file_extension": ".py",
   "mimetype": "text/x-python",
   "name": "python",
   "nbconvert_exporter": "python",
   "pygments_lexer": "ipython3",
   "version": "3.11.3"
  }
 },
 "nbformat": 4,
 "nbformat_minor": 5
}
